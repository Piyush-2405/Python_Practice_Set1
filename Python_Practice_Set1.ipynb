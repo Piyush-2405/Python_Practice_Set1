{
 "cells": [
  {
   "cell_type": "markdown",
   "id": "c2d49c8e-e643-4f79-8e33-e0ec9aea92d0",
   "metadata": {},
   "source": [
    "Q1. Write a Python program that defines a function called \"add_numbers\" that takes two arguments (i.e.,\n",
    "numbers) and returns their sum. Within the function, add the two numbers together and return the result\n",
    "using the return statement. Call the function with the values 5 and 6, and print out the returned result.\n",
    "This will result in the addition of 5 and 6, with the output of the program being the sum of these two\n",
    "numbers."
   ]
  },
  {
   "cell_type": "code",
   "execution_count": 5,
   "id": "ce4b50da-d9d4-4c0f-8d2c-dd0987f5d545",
   "metadata": {},
   "outputs": [
    {
     "ename": "NameError",
     "evalue": "name 'num1' is not defined",
     "output_type": "error",
     "traceback": [
      "\u001b[0;31m---------------------------------------------------------------------------\u001b[0m",
      "\u001b[0;31mNameError\u001b[0m                                 Traceback (most recent call last)",
      "Cell \u001b[0;32mIn[5], line 6\u001b[0m\n\u001b[1;32m      3\u001b[0m     \u001b[38;5;28;01mreturn\u001b[39;00m result\n\u001b[1;32m      5\u001b[0m Sum_result \u001b[38;5;241m=\u001b[39m add_numbers(\u001b[38;5;241m5\u001b[39m,\u001b[38;5;241m6\u001b[39m)\n\u001b[0;32m----> 6\u001b[0m \u001b[38;5;28mprint\u001b[39m(\u001b[38;5;124m\"\u001b[39m\u001b[38;5;124mThe sum of 5 and 6 is:\u001b[39m\u001b[38;5;124m\"\u001b[39m,add_numbers(\u001b[43mnum1\u001b[49m,num2))\n",
      "\u001b[0;31mNameError\u001b[0m: name 'num1' is not defined"
     ]
    }
   ],
   "source": [
    "def add_numbers(num1,num2):\n",
    "    result = num1+num2\n",
    "    return result\n",
    "\n",
    "Sum_result = add_numbers(5,6)\n",
    "print(\"The sum of 5 and 6 is:\",add_numbers(num1,num2))"
   ]
  },
  {
   "cell_type": "markdown",
   "id": "d2fbbd14-2f9c-4a16-89ef-a3650ba8d100",
   "metadata": {},
   "source": [
    "Q2. Write a Python program that calculates the square root of a given number using a built-in function.\n",
    "Specifically, the program should take an integer or float input from the user, calculate its square root\n",
    "using the 'sqrt()' function from the 'math' module, and print out the result to the user. As an example,\n",
    "calculate the square root of the number 625 using this program, which should output the value of 25."
   ]
  },
  {
   "cell_type": "code",
   "execution_count": 6,
   "id": "8a686684-ea71-4537-b04b-8fc29615f999",
   "metadata": {},
   "outputs": [
    {
     "name": "stdin",
     "output_type": "stream",
     "text": [
      "Enter the number:  55\n"
     ]
    },
    {
     "name": "stdout",
     "output_type": "stream",
     "text": [
      "The square root of 55.0 is: 7.416198487095663\n"
     ]
    }
   ],
   "source": [
    "import math\n",
    "\n",
    "def find_sq_root(x):\n",
    "    return math.sqrt(x)\n",
    "\n",
    "user_input = float(input(\"Enter the number: \"))\n",
    "\n",
    "result = find_sq_root(user_input)\n",
    "\n",
    "print(\"The square root of\" , user_input ,\"is:\",result)"
   ]
  },
  {
   "cell_type": "markdown",
   "id": "e459df7d-b29d-4eae-92bf-4b31b2c8ccd1",
   "metadata": {},
   "source": [
    "Q3.Write a program that prints all prime numbers between 0 to 50."
   ]
  },
  {
   "cell_type": "code",
   "execution_count": 7,
   "id": "04b098b5-02ea-4be9-b732-ddbf081e84c9",
   "metadata": {},
   "outputs": [
    {
     "name": "stdout",
     "output_type": "stream",
     "text": [
      "2\n",
      "3\n",
      "5\n",
      "7\n",
      "11\n",
      "13\n",
      "17\n",
      "19\n",
      "23\n",
      "29\n",
      "31\n",
      "37\n",
      "41\n",
      "43\n",
      "47\n"
     ]
    }
   ],
   "source": [
    "lower = 0\n",
    "upper = 50\n",
    "    \n",
    "for x in range(0,51):\n",
    "    if x > 1:\n",
    "        for i in range(2,x):\n",
    "            if x%i == 0:\n",
    "                break\n",
    "        else:\n",
    "            print(x)"
   ]
  },
  {
   "cell_type": "markdown",
   "id": "92f0d4c7-89d5-4642-b3c4-101d7ef374b7",
   "metadata": {},
   "source": [
    "Q4.How can we swap the values of three variables (let's say a, b, and c) without using a fourth variable?\n",
    "For example, if we have a=5, b=8, and c=9, how can we obtain a=9, b=5, and c=8? The challenge is to\n",
    "perform this operation without using an additional variable to store any of the values during the\n",
    "swapping process."
   ]
  },
  {
   "cell_type": "markdown",
   "id": "b52e8e22-3128-42f1-93f2-7e3285918874",
   "metadata": {},
   "source": [
    "We can swap the values of three variables without using a fourth variable using a mathematical approach called \"XOR swapping.\" The XOR operation (exclusive OR) has the property that applying it twice with the same value will cancel out the effect, effectively \"swapping\" the values."
   ]
  },
  {
   "cell_type": "code",
   "execution_count": 8,
   "id": "ee49c195-1a2a-4703-86d4-42b812981b36",
   "metadata": {},
   "outputs": [
    {
     "name": "stdout",
     "output_type": "stream",
     "text": [
      "Swapped values: a = 9 , b = 5 , c = 8\n"
     ]
    }
   ],
   "source": [
    "def swap_three_variables(a, b, c):\n",
    "    a = a ^ b ^ c\n",
    "    b = a ^ b ^ c\n",
    "    c = a ^ b ^ c\n",
    "    a = a ^ b ^ c\n",
    "    return a, b, c\n",
    "\n",
    "# Example values\n",
    "a = 5\n",
    "b = 8\n",
    "c = 9\n",
    "\n",
    "# Perform the swap\n",
    "a, b, c = swap_three_variables(a, b, c)\n",
    "\n",
    "# Print the swapped values\n",
    "print(\"Swapped values: a =\", a, \", b =\", b, \", c =\", c)\n"
   ]
  },
  {
   "cell_type": "markdown",
   "id": "a96a7a06-12f7-461d-a068-ccd33672c812",
   "metadata": {},
   "source": [
    "Q5. Can you write a program that determines the nature of a given number (in this case, 87) as being\n",
    "positive, negative, or zero? The program should be designed to take the number as input and perform the\n",
    "necessary calculations to determine if the number is positive (i.e., greater than zero), negative (i.e., less\n",
    "than zero), or zero (i.e., equal to zero). The output of the program should indicate which of these three\n",
    "categories the given number falls into."
   ]
  },
  {
   "cell_type": "code",
   "execution_count": 10,
   "id": "133a1058-c472-42bb-bdbc-1ead24ff9971",
   "metadata": {},
   "outputs": [
    {
     "name": "stdin",
     "output_type": "stream",
     "text": [
      "Enter a number:  89\n"
     ]
    },
    {
     "name": "stdout",
     "output_type": "stream",
     "text": [
      "The number is Positive\n"
     ]
    }
   ],
   "source": [
    "def determine_number_nature(number):\n",
    "    if number > 0:\n",
    "        return \"Positive\"\n",
    "    elif number < 0:\n",
    "        return \"Negative\"\n",
    "    else:\n",
    "        return \"Zero\"\n",
    "\n",
    "# Take input from the user\n",
    "user_input = float(input(\"Enter a number: \"))\n",
    "\n",
    "# Call the function to determine the nature of the number\n",
    "nature = determine_number_nature(user_input)\n",
    "\n",
    "# Print the result\n",
    "print(\"The number is\", nature)\n"
   ]
  },
  {
   "cell_type": "markdown",
   "id": "348d0eb0-778b-48d6-867a-4af6ffe8b71d",
   "metadata": {},
   "source": [
    "Q6. How can you create a program that determines whether a given number (in this case, 98) is even or\n",
    "odd? The program should be designed to take the number as input and perform the necessary\n",
    "calculations to determine whether it is divisible by two. If the number is divisible by two without leaving a\n",
    "remainder, it is an even number, and if there is a remainder, it is an odd number. The output of the\n",
    "program should indicate whether the given number is even or odd."
   ]
  },
  {
   "cell_type": "code",
   "execution_count": 11,
   "id": "ed7b445a-719c-43a9-88fd-f83bd41dc6bb",
   "metadata": {},
   "outputs": [
    {
     "name": "stdin",
     "output_type": "stream",
     "text": [
      "Enter a number:  456\n"
     ]
    },
    {
     "name": "stdout",
     "output_type": "stream",
     "text": [
      "It is an even no.\n"
     ]
    }
   ],
   "source": [
    "num = float(input(\"Enter a number: \"))\n",
    "#def Even_or_Not(num):\n",
    "if num % 2 == 0:\n",
    "    print(\"It is an even no.\")\n",
    "else :\n",
    "    print(\"It is an odd no.\")\n",
    "\n",
    "#result = Even_or_Not(num)\n",
    "#print(result)"
   ]
  },
  {
   "cell_type": "markdown",
   "id": "9f81831b-794a-4cea-a857-f2919499172e",
   "metadata": {},
   "source": [
    "Q7.Write a program for sum of digits.the digits are 76543 and the output should be 25."
   ]
  },
  {
   "cell_type": "code",
   "execution_count": 15,
   "id": "fceda031-888b-4edb-bfb1-72b991b13f35",
   "metadata": {},
   "outputs": [
    {
     "name": "stdin",
     "output_type": "stream",
     "text": [
      "enter 1st no. 7\n",
      "enter 2nd no. 6\n",
      "enter 3rd no. 5\n",
      "enter 4th no. 4\n",
      "enter 5th no. 3\n"
     ]
    },
    {
     "name": "stdout",
     "output_type": "stream",
     "text": [
      "The sum is : 25\n"
     ]
    }
   ],
   "source": [
    "x = int(input(\"enter 1st no.\"))\n",
    "y = int(input(\"enter 2nd no.\"))\n",
    "z = int(input(\"enter 3rd no.\"))\n",
    "u = int(input(\"enter 4th no.\"))\n",
    "v = int(input(\"enter 5th no.\"))\n",
    "def Sum(x,y,z,u,v):\n",
    "    return (x+y+z+u+v)\n",
    "\n",
    "print(\"The sum is :\", Sum(x,y,z,u,v))"
   ]
  },
  {
   "cell_type": "markdown",
   "id": "73e9f011-c118-474d-9220-2461b8d76c50",
   "metadata": {},
   "source": [
    "Q8.Write a program for reversing the given number 5436 and the output should be 6345."
   ]
  },
  {
   "cell_type": "code",
   "execution_count": 1,
   "id": "39aba2c6-5390-4e12-9c7b-ae0b98684935",
   "metadata": {},
   "outputs": [
    {
     "name": "stdout",
     "output_type": "stream",
     "text": [
      "The reversed number is: 6345\n"
     ]
    }
   ],
   "source": [
    "num = 5436\n",
    "reverse = 0\n",
    "\n",
    "while num > 0:\n",
    "    # Extract the rightmost digit of the number\n",
    "    digit = num % 10\n",
    "    \n",
    "    # Add the extracted digit to the reverse number\n",
    "    reverse = (reverse * 10) + digit\n",
    "    \n",
    "    # Remove the rightmost digit from the number\n",
    "    num //= 10\n",
    "\n",
    "print(\"The reversed number is:\", reverse)\n",
    "\n"
   ]
  },
  {
   "cell_type": "markdown",
   "id": "6fa64222-c66e-4517-b1f0-788a7df7760d",
   "metadata": {},
   "source": [
    "Q9.Write a program to check if a given number 371 is an Armstrong number?"
   ]
  },
  {
   "cell_type": "code",
   "execution_count": 2,
   "id": "bcfe7dc2-6fce-493b-a832-b12e8ab05e66",
   "metadata": {},
   "outputs": [
    {
     "name": "stdout",
     "output_type": "stream",
     "text": [
      "371 is an Armstrong number\n"
     ]
    }
   ],
   "source": [
    "\n",
    "# Function to check if a number is an Armstrong number\n",
    "def is_armstrong(num):\n",
    "    # Get the number of digits in the given number\n",
    "    num_str = str(num)\n",
    "    num_digits = len(num_str)\n",
    "    \n",
    "    # Calculate the sum of the cubes of each digit\n",
    "    sum_of_cubes = sum([int(digit)**num_digits for digit in num_str])\n",
    "    \n",
    "    # Check if the sum of the cubes is equal to the original number\n",
    "    if sum_of_cubes == num:\n",
    "        return True\n",
    "    else:\n",
    "        return False\n",
    "\n",
    "# Test the function with the number 371\n",
    "num = 371\n",
    "if is_armstrong(num):\n",
    "    print(num, \"is an Armstrong number\")\n",
    "else:\n",
    "    print(num, \"is not an Armstrong number\")\n",
    "\n"
   ]
  },
  {
   "cell_type": "markdown",
   "id": "6f9950f3-cee3-4848-abff-d8308f685586",
   "metadata": {},
   "source": [
    "Q10.Write a program the given year is 1996, a leap year."
   ]
  },
  {
   "cell_type": "code",
   "execution_count": 4,
   "id": "0eee2677-7c27-49a6-b561-4578fbd67930",
   "metadata": {},
   "outputs": [
    {
     "name": "stdout",
     "output_type": "stream",
     "text": [
      "1996 is a leap year\n"
     ]
    }
   ],
   "source": [
    "year = 1996\n",
    "\n",
    "if (year % 4 == 0 and year % 100 != 0) or (year % 400 == 0):\n",
    "    print(year, \"is a leap year\")\n",
    "else:\n",
    "    print(year, \"is not a leap year\")\n"
   ]
  },
  {
   "cell_type": "code",
   "execution_count": null,
   "id": "885117f5-db47-4f14-99ed-be7943fc1c49",
   "metadata": {},
   "outputs": [],
   "source": []
  }
 ],
 "metadata": {
  "kernelspec": {
   "display_name": "Python 3 (ipykernel)",
   "language": "python",
   "name": "python3"
  },
  "language_info": {
   "codemirror_mode": {
    "name": "ipython",
    "version": 3
   },
   "file_extension": ".py",
   "mimetype": "text/x-python",
   "name": "python",
   "nbconvert_exporter": "python",
   "pygments_lexer": "ipython3",
   "version": "3.10.8"
  }
 },
 "nbformat": 4,
 "nbformat_minor": 5
}
